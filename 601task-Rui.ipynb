{
 "cells": [
  {
   "cell_type": "markdown",
   "id": "82bdd5bf-4eb2-489a-923e-fc60ad7fbda2",
   "metadata": {},
   "source": [
    "Task 1\n",
    "\n",
    "If a matching is stable, it must be a matching to begin with. So, an upper bound for the maximum number of stable matchings is simply the total number of possible matchings, which is n!.  "
   ]
  },
  {
   "cell_type": "markdown",
   "id": "618692c4-7d61-47ad-b717-0c5bec6463fc",
   "metadata": {},
   "source": [
    "Task 2"
   ]
  },
  {
   "cell_type": "markdown",
   "id": "5fab6d95-b517-4789-8d73-d431850d0a16",
   "metadata": {},
   "source": [
    "(a)"
   ]
  },
  {
   "cell_type": "code",
   "execution_count": 1,
   "id": "d4650f86-f994-48e0-811b-4d52600db5c5",
   "metadata": {},
   "outputs": [],
   "source": [
    "def IS_STABLE(preference_1, preference_2, matching):\n",
    "    men = list(matching.keys())\n",
    "    n = len(men)\n",
    "\n",
    "    state = 'stable'\n",
    "    check_count = 0\n",
    "    while check_count < n:\n",
    "        opt_pref = preference_1[men[check_count]][0]\n",
    "        if preference_2[opt_pref][0] == men[check_count] and matching[men[check_count]][0] != opt_pref:\n",
    "            state = 'unstable'\n",
    "            break\n",
    "        else:\n",
    "            check_count = check_count + 1\n",
    "\n",
    "    return state"
   ]
  },
  {
   "cell_type": "markdown",
   "id": "355e7cad-95c3-4e55-b41b-a3e39430fc21",
   "metadata": {},
   "source": [
    "(b)\n",
    "\n",
    "We used a dictionary for the preference tables and a dictionary for the matching. This is because, since we often need to search for the values for a particular key from the preference table (say the preference order of individual A), it would be more time-efficient than other things such as a list. "
   ]
  },
  {
   "cell_type": "markdown",
   "id": "64ab37ab-7748-4749-9c23-01bcf984afe7",
   "metadata": {},
   "source": [
    "(c) \n",
    "\n",
    "Here, the while loop, in the worst case, would run for n times. Within the while loop, we access the preference table (a few times) which a dictionary so the action has time complexity of O(1) (on average, and rarely O(n)). So, we could say that our IS_STABLE algorithm has a time complexity of O(n). "
   ]
  },
  {
   "cell_type": "code",
   "execution_count": 2,
   "id": "c7fcfb8d-0baf-46b6-9f76-ce556e02f19c",
   "metadata": {},
   "outputs": [
    {
     "data": {
      "text/plain": [
       "'stable'"
      ]
     },
     "execution_count": 2,
     "metadata": {},
     "output_type": "execute_result"
    }
   ],
   "source": [
    "# A test case\n",
    "\n",
    "preference_1 = dict()\n",
    "preference_1['A'] = ['c', 'b', 'd', 'a']\n",
    "preference_1['B'] = ['b', 'a', 'c', 'd']\n",
    "preference_1['C'] = ['b', 'd', 'a', 'c']\n",
    "preference_1['D'] = ['c', 'a', 'd', 'b']\n",
    "\n",
    "preference_2 = dict()\n",
    "preference_2['a'] = ['A', 'B', 'D', 'C']\n",
    "preference_2['b'] = ['C', 'A', 'D', 'B']\n",
    "preference_2['c'] = ['C', 'B', 'D', 'A']\n",
    "preference_2['d'] = ['B', 'A', 'C', 'D']\n",
    "\n",
    "matching = dict()\n",
    "matching['A'] = ['d']\n",
    "matching['B'] = ['a']\n",
    "matching['C'] = ['b']\n",
    "matching['D'] = ['c']\n",
    "\n",
    "IS_STABLE(preference_1, preference_2, matching)"
   ]
  },
  {
   "cell_type": "markdown",
   "id": "91c40be0-8f13-4729-8a48-eb744e1a91af",
   "metadata": {},
   "source": [
    "Task 3"
   ]
  },
  {
   "cell_type": "markdown",
   "id": "0d1f147e-3810-4060-babc-280aa36d514a",
   "metadata": {},
   "source": [
    "(a)"
   ]
  },
  {
   "cell_type": "code",
   "execution_count": 3,
   "id": "8daa7529-a951-419e-8d20-63d292755d1c",
   "metadata": {},
   "outputs": [],
   "source": [
    "import itertools\n",
    "\n",
    "def STABLE_MATCHINGS(preference_1, preference_2): \n",
    "    men = list(preference_1.keys())\n",
    "    women = list(preference_2.keys())\n",
    "    n = len(men)\n",
    "\n",
    "    matchings = [] # list of dictionaries. each inner dictionary represents the (female) match for the men, in the same order\n",
    "    for match in list(itertools.permutations(women)):\n",
    "        matching = {men[i]: match[i] for i in range(n)}\n",
    "        if IS_STABLE(preference_1, preference_2, matching) == 'stable':\n",
    "            matchings.append(matching)\n",
    "\n",
    "    return(matchings)"
   ]
  },
  {
   "cell_type": "code",
   "execution_count": 4,
   "id": "15a16a37-d9ae-4ea4-b230-593e59a7bc9a",
   "metadata": {},
   "outputs": [],
   "source": [
    "#STABLE_MATCHINGS(preference_1, preference_2)"
   ]
  },
  {
   "cell_type": "markdown",
   "id": "6301a7f1-bc4f-460c-b5c4-0fd809011f1e",
   "metadata": {},
   "source": [
    "(b) \n",
    "\n",
    "The preference tables are assumed to be dictionaries. This is to allow easy use of the IS_STABLE function we built previously. "
   ]
  },
  {
   "cell_type": "markdown",
   "id": "899f4ef8-01c3-4a76-809e-3a70deb293d7",
   "metadata": {},
   "source": [
    "(c) \n",
    "\n",
    "We are looping over all the possible matchings, which is n!. For each possibility, we run the IS_STABLE function which is O(n), and we also convert the two lists into a dictionary which is O(n) too. So, the time complexity within each loop is O(n). Overall, the time-complexity of this (very bad) algorithm is O(n!n)"
   ]
  },
  {
   "cell_type": "markdown",
   "id": "c680172c-5378-4854-8735-f98dbc54743f",
   "metadata": {},
   "source": [
    "Task 4"
   ]
  },
  {
   "cell_type": "code",
   "execution_count": 5,
   "id": "69137dba-014c-4838-8687-b48de4397c80",
   "metadata": {},
   "outputs": [],
   "source": [
    "import random \n",
    "\n",
    "def rand_pref_table(list_1, list_2):\n",
    "    n = len(list_1)\n",
    "    pref_table = dict()\n",
    "    return({list_1[i] : sorted(list_2, key=lambda x: random.random()) for i in range(n)})"
   ]
  },
  {
   "cell_type": "code",
   "execution_count": 6,
   "id": "a4704630-2887-4595-a317-a8439b774a9a",
   "metadata": {},
   "outputs": [],
   "source": [
    "#rand_pref_table(['A','B', 'C', 'D'], ['a','b','c','d'])"
   ]
  },
  {
   "cell_type": "raw",
   "id": "7bf2a204-1b38-479b-8b82-f81d1d6213eb",
   "metadata": {},
   "source": [
    "Task 5\n",
    "\n",
    "Pseudocode for IS_STABLE of Task 2\n",
    "\n",
    "REQUIRE: Preference table for men *Preference_1*, preference table for women *Preference_2*, matching *matching*.\n",
    "\n",
    "ALGORITHM:\n",
    "n <- number of men\n",
    "outcome <- stable\n",
    "for i in 1, 2, ..., n:\n",
    "    if \"the first choice in preference of first choice of man 1\" == \"man 1\" AND \"matching for man 1\" != \"first choice of man 1\":\n",
    "        outcome <- unstable\n",
    "        break\n",
    "\n",
    "OUTPUT: outcome\n",
    "\n",
    "\n",
    "\n",
    "\n",
    "Pseudocode for STABLE_MATCHINGS of Task 3\n",
    "\n",
    "REQUIRE: Preference table for men *Preference_1*, preference table for women *Preference_2*.\n",
    "\n",
    "ALGORITHM:\n",
    "n <- number of men\n",
    "outcome <- list[]\n",
    "for women_order in \"all permutations of women\":\n",
    "    matching = \"match men and women_order\"\n",
    "    if IS_STABLE(*Preference_1*, *Preference_2*, matching) == stable:\n",
    "        outcome.append(matching)\n",
    "\n",
    "OUTPUT: outcome"
   ]
  },
  {
   "cell_type": "markdown",
   "id": "5fa78bad-a0b7-4a88-a13f-fdb9c302dff3",
   "metadata": {},
   "source": [
    "Task 6"
   ]
  },
  {
   "cell_type": "code",
   "execution_count": 7,
   "id": "d2e01504-d435-41d0-ac3a-623079beec0c",
   "metadata": {},
   "outputs": [
    {
     "name": "stdout",
     "output_type": "stream",
     "text": [
      "[3.037686983589083e-05, 0.00012994145043194295, 7.514416996855289e-05]\n",
      "[0.0017751280101947486, 0.11105206102365628, 10.763367708015721]\n"
     ]
    }
   ],
   "source": [
    "import time\n",
    "\n",
    "is_stab_time = []\n",
    "stab_mat_time = []\n",
    "\n",
    "size_list1 = [1000, 2000, 5000]\n",
    "for size in size_list1:\n",
    "    lis = [str(i) for i in range(1,size+1)]\n",
    "    pref_1 = rand_pref_table(lis, lis)\n",
    "    pref_2 = rand_pref_table(lis, lis)\n",
    "    lis_shuf = sorted(lis, key=lambda x: random.random()) \n",
    "    match = {lis[i]: lis_shuf[i] for i in range(size)}\n",
    "    \n",
    "    start = time.perf_counter()\n",
    "    for iter in range(100):\n",
    "        IS_STABLE(pref_1, pref_2, match)\n",
    "    end = time.perf_counter()   \n",
    "    is_stab_time.append((end - start)/100)\n",
    "\n",
    "\n",
    "size_list2 = [6, 8, 10]\n",
    "for size in size_list2:\n",
    "    lis = [str(i) for i in range(1,size+1)]\n",
    "    pref_1 = rand_pref_table(lis, lis)\n",
    "    pref_2 = rand_pref_table(lis, lis)\n",
    "    lis_shuf = sorted(lis, key=lambda x: random.random()) \n",
    "    match = {lis[i]: lis_shuf[i] for i in range(size)}\n",
    "\n",
    "    start = time.perf_counter()\n",
    "    STABLE_MATCHINGS(pref_1, pref_2)\n",
    "    end = time.perf_counter()   \n",
    "    stab_mat_time.append(end - start)\n",
    "\n",
    "    \n",
    "\n",
    "print(is_stab_time)\n",
    "print(stab_mat_time)\n",
    "\n"
   ]
  },
  {
   "cell_type": "code",
   "execution_count": 8,
   "id": "da7fa57d-442f-4c65-b1be-1320a3448c4d",
   "metadata": {},
   "outputs": [],
   "source": [
    "#!python -m pip install matplotlib"
   ]
  },
  {
   "cell_type": "code",
   "execution_count": 9,
   "id": "a033b0f0-f469-4be2-9b0c-d95b68dcec53",
   "metadata": {},
   "outputs": [
    {
     "data": {
      "text/plain": [
       "<function matplotlib.pyplot.show(close=None, block=None)>"
      ]
     },
     "execution_count": 9,
     "metadata": {},
     "output_type": "execute_result"
    },
    {
     "data": {
      "image/png": "[encoded data removed]",
      "text/plain": [
       "<Figure size 640x480 with 1 Axes>"
      ]
     },
     "metadata": {},
     "output_type": "display_data"
    }
   ],
   "source": [
    "import matplotlib.pyplot as plt\n",
    "import numpy as np\n",
    "\n",
    "grad = (is_stab_time[2] - is_stab_time[0]) / (size_list1[2] - size_list1[0])\n",
    "intercept = is_stab_time[0] - size_list1[0]*grad\n",
    "dom = np.arange(size_list1[0],size_list1[-1],10)\n",
    "\n",
    "plt.plot(size_list1, is_stab_time,linestyle='-',marker='o')\n",
    "plt.plot(dom, dom*grad+intercept, color='red')\n",
    "plt.title('IS_STABLE Runtime for Varying Dimensions')\n",
    "plt.legend(['Estimate','Upper Bound'],loc='upper left')\n",
    "plt.show"
   ]
  },
  {
   "cell_type": "code",
   "execution_count": 10,
   "id": "384375ac-945e-4221-b194-5d85136e2293",
   "metadata": {},
   "outputs": [
    {
     "data": {
      "text/plain": [
       "<function matplotlib.pyplot.show(close=None, block=None)>"
      ]
     },
     "execution_count": 10,
     "metadata": {},
     "output_type": "execute_result"
    },
    {
     "data": {
      "image/png": "[encoded data removed]",
      "text/plain": [
       "<Figure size 640x480 with 1 Axes>"
      ]
     },
     "metadata": {},
     "output_type": "display_data"
    }
   ],
   "source": [
    "import math \n",
    "\n",
    "def mag(n):\n",
    "    return(n*math.factorial(n))\n",
    "    \n",
    "grad = (stab_mat_time[1] - stab_mat_time[0]) / mag(size_list2[1] - size_list2[0])\n",
    "intercept = stab_mat_time[0] - mag(size_list2[0])*grad\n",
    "dom = np.arange(size_list2[0],size_list2[-1],1)\n",
    "ran = [mag(d)*grad + intercept for d in dom]\n",
    "\n",
    "plt.plot(size_list2, stab_mat_time,linestyle='-',marker='o')\n",
    "plt.plot(dom, ran, color='red')\n",
    "plt.title('STABLE_MATCHINGS Runtime for Varying Dimensions')\n",
    "plt.legend(['Estimate','Upper Bound'],loc='upper left')\n",
    "plt.show"
   ]
  },
  {
   "cell_type": "markdown",
   "id": "359601d7-c38f-40fd-8c51-145b9a2433c4",
   "metadata": {},
   "source": [
    "We do see our the time-complexity upper bounds are indeed upper bounds of our (few) experiment results. For IS_STABLE, the O(n) trend fits the observations well. For STABLE_MATCHINGS, the O(n*n!) trend is certainly a correct upper bound, but it certainly appears to be overlly conservative and a better analysis of the STABLE_MATCHINGS function would hopefully yield a tighter upper bound on the time-complexity. Overall, the experiments are consistent with the expectations. "
   ]
  },
  {
   "cell_type": "markdown",
   "id": "64c23df2-06a0-42e1-8b9a-5103c3fa9fb9",
   "metadata": {},
   "source": [
    "Task 7"
   ]
  },
  {
   "cell_type": "markdown",
   "id": "2e799225-f419-4c31-a782-0991f68ac323",
   "metadata": {},
   "source": [
    "(a) \n",
    "\n",
    "Since we are using a dictionary to store the preference table, adding the imaginary man would mean adding a value, say Omega, to each of the keys, which can be done by assessing the value list and append a value. For example, assuming *Preference_2* is our current preference table of women with four men and four women, and we wish to add a undesirable imaginary man 'Omega' to the end of each woman's preference order. This can be done as follows: \n",
    "\n",
    "    women = list(Preference_2.keys())\n",
    "    for woman in women:\n",
    "        Preference_2[woman].append('Omega')"
   ]
  },
  {
   "cell_type": "markdown",
   "id": "f237ecfb-d239-42ff-9b51-381b4c4603bc",
   "metadata": {},
   "source": [
    "(b) "
   ]
  },
  {
   "cell_type": "code",
   "execution_count": 11,
   "id": "60ded28a-b59b-4c2c-97ae-35502b88c26b",
   "metadata": {},
   "outputs": [],
   "source": [
    "def FUND_ALG(preference_1, preference_2):\n",
    "    men = list(preference_1.keys())\n",
    "    women = list(preference_2.keys())\n",
    "    n = len(men)\n",
    "    \n",
    "    match = {woman: 'Omega' for woman in women}\n",
    "    \n",
    "    for woman in women:\n",
    "        preference_2[woman].append('Omega')\n",
    "    \n",
    "    k = 0 \n",
    "    while k < n:\n",
    "        X = men[k]\n",
    "        while X != 'Omega':\n",
    "            x = preference_1[X][0]\n",
    "            x_match = match[x]\n",
    "            if preference_2[x].index(X) < preference_2[x].index(x_match):\n",
    "                match[x] = X\n",
    "                X = x_match\n",
    "            if X != 'Omega':\n",
    "                preference_1[X].pop(0)\n",
    "        k = k + 1\n",
    "\n",
    "    return(match) # match is a dictionary with key:value pair being woman:man."
   ]
  },
  {
   "cell_type": "markdown",
   "id": "da2341d4-34c6-499c-90d9-cdf20b84d872",
   "metadata": {},
   "source": [
    "(c) \n",
    "\n",
    "The inputs are two preference tables, and they are dictionaries. Inside this algorithm, we loop n times. Within each loop, we do another loop to check if X is the undesirable man, which is of order n too in the worst case. Within that loop, we assess values of the dictionary using keys (O(1)), and we find elements in a list(O(n)), and we sometimes remove elements from list too (O(n)). Therefore, this algorithm is of worst-case time-complexity O(n^3). "
   ]
  },
  {
   "cell_type": "markdown",
   "id": "c015baee-28d8-4ee9-9d07-e8236e49260e",
   "metadata": {},
   "source": [
    "Task 8"
   ]
  },
  {
   "cell_type": "code",
   "execution_count": 12,
   "id": "0c51bbcd-2fa5-4dc3-a817-6eedd5ff699e",
   "metadata": {},
   "outputs": [],
   "source": [
    "import pandas as pd\n",
    "\n",
    "H_preference_table = pd.DataFrame({\"Anatole\" : [\"cunegonde\",\"brigitte\",\"donatienne\",\"antoinette\"],\n",
    "                                   \"Barnabe\" : [\"brigitte\",\"antoinette\",\"cunegonde\",\"donatienne\"],\n",
    "                                   \"Camille\" : [\"brigitte\",\"donatienne\",\"antoinette\",\"cunegonde\"],\n",
    "                                   \"Dominique\" : [\"cunegonde\",\"antoinette\",\"donatienne\",\"brigitte\"]                              \n",
    "                                })\n",
    "\n",
    "F_preference_table = pd.DataFrame({\"antoinette\" : [\"Anatole\",\"Barnabe\",\"Dominique\",\"Camille\"],\n",
    "                                   \"brigitte\" : [\"Camille\",\"Anatole\",\"Dominique\",\"Barnabe\"],\n",
    "                                   \"cunegonde\" : [\"Camille\",\"Barnabe\",\"Dominique\",\"Anatole\"],\n",
    "                                   \"donatienne\" : [\"Barnabe\",\"Anatole\",\"Camille\",\"Dominique\"]                              \n",
    "                                })\n",
    "\n",
    "matching_df = pd.DataFrame({\"Men\" : [\"Anatole\",\"Barnabe\",\"Camille\",\"Dominique\"],\n",
    "                         \"Women\" : [\"donatienne\",\"antoinette\",\"brigitte\",\"cunegonde\"]                          \n",
    "                                })"
   ]
  },
  {
   "cell_type": "code",
   "execution_count": 13,
   "id": "1e0a8af5-7216-46c5-a60d-fe2251e9f0f2",
   "metadata": {},
   "outputs": [],
   "source": [
    "def FUND_ALG_DF(preference_1, preference_2):\n",
    "    preference_1 = preference_1.to_dict('list')\n",
    "    preference_2 = preference_2.to_dict('list')\n",
    "    men = list(preference_1.keys())\n",
    "    women = list(preference_2.keys())\n",
    "    n = len(men)\n",
    "    \n",
    "    match = {woman: 'Omega' for woman in women}\n",
    "    \n",
    "    for woman in women:\n",
    "        preference_2[woman].append('Omega')\n",
    "    \n",
    "    k = 0 \n",
    "    while k < n:\n",
    "        X = men[k]\n",
    "        while X != 'Omega':\n",
    "            x = preference_1[X][0]\n",
    "            x_match = match[x]\n",
    "            if preference_2[x].index(X) < preference_2[x].index(x_match):\n",
    "                match[x] = X\n",
    "                X = x_match\n",
    "            if X != 'Omega':\n",
    "                preference_1[X].pop(0)\n",
    "        k = k + 1\n",
    "\n",
    "    output = pd.DataFrame({\"Men\": list(match.values()), \"Women\": list(match.keys())})\n",
    "    return(output) "
   ]
  },
  {
   "cell_type": "markdown",
   "id": "58240e84-ee2c-4278-a232-f42296d1d8a5",
   "metadata": {},
   "source": [
    "Task 9"
   ]
  },
  {
   "cell_type": "markdown",
   "id": "7273cbd1-9d89-4419-b3de-163d193d35bf",
   "metadata": {},
   "source": [
    "The algorithm built in Task 4 allows us to generate preference tables from two lists. This could be used to help us construct preference tables of varying sizes and with entries of varying data types, which can then be used to see if our algorithms are capable of handling and processing a wide range of potential preference tables. Among the 5Rs, this would certainly help with Re-runnability as it checks the codes for many potential scenarios, and it could help the Reusability of the code for the same reason. \n",
    "\n",
    "We could also check the Repeatability of the codes by running the function for multiple times using the same inputs and see if the results are identical each time. The following chunk of codes test the IS_STABLE function using some particular fixed input and is executed for 100 times. A check is then implemented to see if the same output is generated each time. "
   ]
  },
  {
   "cell_type": "code",
   "execution_count": 14,
   "id": "68e2f1bc-927b-4727-89c0-0847eeaab948",
   "metadata": {},
   "outputs": [],
   "source": [
    "def repeatable_test(FUNC, PARAM1, PARAM2, PARAM3, iter):\n",
    "    result = []\n",
    "    for i in range(iter):\n",
    "        result.append(FUNC(PARAM1,PARAM2, PARAM3))\n",
    "    if len(set(result)) == 1 and iter > 1:\n",
    "        return('PASS')\n",
    "    else:\n",
    "        return('FAIL')"
   ]
  },
  {
   "cell_type": "code",
   "execution_count": 15,
   "id": "a86e855b-a336-4699-b080-7568147bcccf",
   "metadata": {},
   "outputs": [
    {
     "data": {
      "text/plain": [
       "'PASS'"
      ]
     },
     "execution_count": 15,
     "metadata": {},
     "output_type": "execute_result"
    }
   ],
   "source": [
    "repeatable_test(IS_STABLE, preference_1, preference_2, matching,100)"
   ]
  },
  {
   "cell_type": "markdown",
   "id": "e7cbaa42-fe4d-4231-89a1-70fa92634800",
   "metadata": {},
   "source": [
    "One remark on the above function: the arguments needed for the test include all the parameters of the function of interest separately. An attempt was made to simply do FUNC(PARAM), but that did not work immediately. It could be achieved, however, by changing the original function arguments to *arg, which allows a tuple of any length as input. This would change too much of the existing codes so it was not done, and a more naive version of the repeatability test is written instead. "
   ]
  }
 ],
 "metadata": {
  "kernelspec": {
   "display_name": "Python 3 (ipykernel)",
   "language": "python",
   "name": "python3"
  },
  "language_info": {
   "codemirror_mode": {
    "name": "ipython",
    "version": 3
   },
   "file_extension": ".py",
   "mimetype": "text/x-python",
   "name": "python",
   "nbconvert_exporter": "python",
   "pygments_lexer": "ipython3",
   "version": "3.9.10"
  }
 },
 "nbformat": 4,
 "nbformat_minor": 5
}
